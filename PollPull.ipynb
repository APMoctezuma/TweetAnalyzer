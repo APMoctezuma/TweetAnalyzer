{
 "cells": [
  {
   "cell_type": "code",
   "execution_count": null,
   "metadata": {},
   "outputs": [],
   "source": [
    "\n",
    "import json\n",
    "import tweepy\n",
    "import pandas as pd\n",
    "from tweepy import OAuthHandler\n",
    "from textblob import TextBlob\n",
    "from vaderSentiment.vaderSentiment import SentimentIntensityAnalyzer\n",
    "import time\n",
    "import re\n",
    "\n",
    "#Analysis imports\n",
    "import glob\n",
    "import nltk\n",
    "from nltk.stem import PorterStemmer\n",
    "from nltk.tokenize import word_tokenize\n",
    "from collections import Counter\n",
    "import numpy as np\n",
    "from nltk.stem import WordNetLemmatizer\n",
    "from datetime import datetime\n",
    "\n",
    "analyzer = SentimentIntensityAnalyzer()"
   ]
  },
  {
   "cell_type": "code",
   "execution_count": 3,
   "metadata": {},
   "outputs": [],
   "source": [
    "con_key = 'uz4wSx2vt2PlKbWCOlIpKbBZo'\n",
    "con_secret = 'lq61FxYRvJPwLjjRlUf0rSTsdXf86iijHYeGfrUdi7EhZzWsWv'\n",
    "acc_token = '1038510225786122247-zLnTCjChQ0rLUHevueL0CN4ygdY1Me'\n",
    "acc_token_secret = 'W7lqUevzXRpzI4zQA6niMDR85r9SCo3sCQGaPA4wg6DS6'"
   ]
  },
  {
   "cell_type": "code",
   "execution_count": 4,
   "metadata": {},
   "outputs": [],
   "source": [
    "auth = OAuthHandler(con_key, con_secret)\n",
    "auth.set_access_token(acc_token, acc_token_secret)\n",
    "new = tweepy.API(auth)"
   ]
  },
  {
   "cell_type": "code",
   "execution_count": 41,
   "metadata": {},
   "outputs": [],
   "source": [
    "bagOwords = ['election' , 'senate' , 'race' , 'november' , '6' , 'gop' , 'dnc' , 'win' , 'lose']\n",
    "analyzer = SentimentIntensityAnalyzer()\n",
    "def Senter(tweets , Cadidate , DF):\n",
    "    for tweet in tweets:\n",
    "        sentiment = '0'\n",
    "        retweet = '0'\n",
    "        relivent = 0\n",
    "        retweeted_count = 0\n",
    "        \n",
    "        if tweet.full_text[:2] == 'RT':\n",
    "            retweet = '1'\n",
    "            retweeted_count+=1\n",
    "        \n",
    "        lower_txt = tweet.full_text.lower()\n",
    "        for word in bagOwords:\n",
    "            if word in lower_txt:\n",
    "                relivent = 1\n",
    "        \n",
    "        if tweet.lang == 'en':\n",
    "            #send to english sentiment analyser\n",
    "            sentiment = analyzer.polarity_scores(tweet.full_text)\n",
    "        else:\n",
    "            #send to this sentiment analyser\n",
    "            sentiment = analyzer.polarity_scores(tweet.full_text)\n",
    "        DF = DF.append({'Candidate': '%s' % (Cadidate) , 'Time' : tweet.created_at ,\n",
    "               'Text': tweet.full_text , 'UserLocation': tweet.user.location , \n",
    "               'Coordinates': tweet.coordinates , \n",
    "               'IsReTweet': retweet ,'Language' : tweet.lang , 'Sentiment': sentiment ,\n",
    "               'Relivent' : relivent } , ignore_index = True)\n",
    "\n",
    "    return DF"
   ]
  },
  {
   "cell_type": "code",
   "execution_count": 42,
   "metadata": {},
   "outputs": [],
   "source": [
    "#Keep in mind we are only pulling english tweets\n",
    "def Searcher(Handle , Cadidate , GeoCode , DF):\n",
    "    time.sleep(60 * 5)\n",
    "    tweets = new.search(q='%s' % (Handle), lang = 'en' , count = consume_count  , geocode = '%s' % (GeoCode) , tweet_mode = 'extended')     \n",
    "    if len(tweets) == 0:\n",
    "        time.sleep(60 * 5)\n",
    "        tweets = new.search(q='%s' % (Handle), lang = 'en' , count = consume_count ,  geocode = '%s' % (GeoCode) , tweet_mode = 'extended')    \n",
    "    DF = Senter(tweets , Cadidate , DF)\n",
    "    return DF"
   ]
  },
  {
   "cell_type": "code",
   "execution_count": null,
   "metadata": {},
   "outputs": [],
   "source": [
    "columns = ['Candidate' , 'Time' , 'Text' , 'UserLocation' , 'Coordinates' , 'IsReTweet' , 'Language' , 'Sentiment' , 'Relivent' ]\n",
    "FL_Radius = '27.967042,-81.471955,320km'\n",
    "AZ_Radius = '34.383026,-111.694738,400km'\n",
    "consume_count = 5\n",
    "analyzer = SentimentIntensityAnalyzer()\n",
    "FL = pd.DataFrame(columns = columns)\n",
    "AZ = pd.DataFrame(columns = columns)\n",
    "\n",
    "while True:\n",
    "    \n",
    "    if (time.localtime().tm_hour == 25):\n",
    "        AZ_path_name = '/Users/pbfile/Desktop/Politter/AZOUT' + str(datetime.now())+'.csv'\n",
    "        FL_path_name = '/Users/pbfile/Desktop/Politter/FLOUT'+ str(datetime.now())+'.csv'\n",
    "        FL.to_csv(FL_path_name , sep = ',')\n",
    "        AZ.to_csv(AZ_path_name , sep = ',')\n",
    "\n",
    "        \n",
    "    FL = Searcher(\"@FLGovScott\" , 'GOP:RICK SCOTT' , FL_Radius , FL)\n",
    "    FL = Searcher(\"@SenBillNelson\" , 'DEM:BILL NELSON' , FL_Radius , FL)\n",
    "    \n",
    "    AZ = Searcher(\"@RepMcSally\" , 'GOP:MARTHA MCSALLY' , AZ_Radius , AZ)\n",
    "    AZ = Searcher(\"@RepSinema\" , 'DEM:KYRSTEN SINEMA' , AZ_Radius , AZ)\n",
    "    "
   ]
  },
  {
   "cell_type": "code",
   "execution_count": 50,
   "metadata": {},
   "outputs": [
    {
     "data": {
      "text/plain": [
       "13"
      ]
     },
     "execution_count": 50,
     "metadata": {},
     "output_type": "execute_result"
    }
   ],
   "source": [
    "time.localtime().tm_hour"
   ]
  },
  {
   "cell_type": "markdown",
   "metadata": {},
   "source": [
    "# EXPORT WHATEVER IS IN THE DATAFRAMES "
   ]
  },
  {
   "cell_type": "code",
   "execution_count": 59,
   "metadata": {},
   "outputs": [],
   "source": [
    "AZ_path_name = '/Users/pbfile/Desktop/Politter/AZOUT' + str(datetime.now())+'.csv'\n",
    "FL_path_name = '/Users/pbfile/Desktop/Politter/FLOUT'+ str(datetime.now())+'.csv'\n",
    "FL.to_csv(FL_path_name , sep = ',')\n",
    "AZ.to_csv(AZ_path_name , sep = ',')"
   ]
  },
  {
   "cell_type": "code",
   "execution_count": 35,
   "metadata": {},
   "outputs": [
    {
     "data": {
      "text/plain": [
       "Timestamp('2018-10-24 03:11:37')"
      ]
     },
     "execution_count": 35,
     "metadata": {},
     "output_type": "execute_result"
    }
   ],
   "source": [
    "FL.Time.min()"
   ]
  },
  {
   "cell_type": "code",
   "execution_count": 36,
   "metadata": {},
   "outputs": [
    {
     "data": {
      "text/plain": [
       "Timestamp('2018-10-24 12:25:11')"
      ]
     },
     "execution_count": 36,
     "metadata": {},
     "output_type": "execute_result"
    }
   ],
   "source": [
    "FL.Time.max()"
   ]
  },
  {
   "cell_type": "code",
   "execution_count": 58,
   "metadata": {},
   "outputs": [
    {
     "data": {
      "text/plain": [
       "(279, 9)"
      ]
     },
     "execution_count": 58,
     "metadata": {},
     "output_type": "execute_result"
    }
   ],
   "source": [
    "FL.shape"
   ]
  },
  {
   "cell_type": "code",
   "execution_count": 55,
   "metadata": {},
   "outputs": [
    {
     "data": {
      "text/plain": [
       "(211, 9)"
      ]
     },
     "execution_count": 55,
     "metadata": {},
     "output_type": "execute_result"
    }
   ],
   "source": [
    "AZ.shape"
   ]
  },
  {
   "cell_type": "code",
   "execution_count": 21,
   "metadata": {},
   "outputs": [
    {
     "data": {
      "text/html": [
       "<div>\n",
       "<style scoped>\n",
       "    .dataframe tbody tr th:only-of-type {\n",
       "        vertical-align: middle;\n",
       "    }\n",
       "\n",
       "    .dataframe tbody tr th {\n",
       "        vertical-align: top;\n",
       "    }\n",
       "\n",
       "    .dataframe thead th {\n",
       "        text-align: right;\n",
       "    }\n",
       "</style>\n",
       "<table border=\"1\" class=\"dataframe\">\n",
       "  <thead>\n",
       "    <tr style=\"text-align: right;\">\n",
       "      <th></th>\n",
       "      <th>Candidate</th>\n",
       "      <th>Time</th>\n",
       "      <th>Text</th>\n",
       "      <th>UserLocation</th>\n",
       "      <th>Coordinates</th>\n",
       "      <th>IsReTweet</th>\n",
       "      <th>Language</th>\n",
       "      <th>Sentiment</th>\n",
       "      <th>Relivent</th>\n",
       "    </tr>\n",
       "  </thead>\n",
       "  <tbody>\n",
       "    <tr>\n",
       "      <th>0</th>\n",
       "      <td>GOP:RICK SCOTT</td>\n",
       "      <td>2018-10-29 18:19:56</td>\n",
       "      <td>RT @FLGovScott: @SalArmyFL has provided more t...</td>\n",
       "      <td>PUERTO RICO,U.S.A.</td>\n",
       "      <td>None</td>\n",
       "      <td>1</td>\n",
       "      <td>en</td>\n",
       "      <td>{'neg': 0.0, 'neu': 1.0, 'pos': 0.0, 'compound...</td>\n",
       "      <td>0</td>\n",
       "    </tr>\n",
       "    <tr>\n",
       "      <th>1</th>\n",
       "      <td>DEM:BILL NELSON</td>\n",
       "      <td>2018-10-29 18:27:49</td>\n",
       "      <td>.@SenBillNelson every voter deserves to know w...</td>\n",
       "      <td>Tampa, FL</td>\n",
       "      <td>None</td>\n",
       "      <td>0</td>\n",
       "      <td>en</td>\n",
       "      <td>{'neg': 0.0, 'neu': 0.914, 'pos': 0.086, 'comp...</td>\n",
       "      <td>1</td>\n",
       "    </tr>\n",
       "    <tr>\n",
       "      <th>2</th>\n",
       "      <td>DEM:BILL NELSON</td>\n",
       "      <td>2018-10-29 18:26:16</td>\n",
       "      <td>RT @Doodisgirl: Shocked to see Democrats like ...</td>\n",
       "      <td>Long Island, New York</td>\n",
       "      <td>None</td>\n",
       "      <td>1</td>\n",
       "      <td>en</td>\n",
       "      <td>{'neg': 0.232, 'neu': 0.664, 'pos': 0.104, 'co...</td>\n",
       "      <td>0</td>\n",
       "    </tr>\n",
       "    <tr>\n",
       "      <th>3</th>\n",
       "      <td>DEM:BILL NELSON</td>\n",
       "      <td>2018-10-29 18:26:02</td>\n",
       "      <td>RT @EdKrassen: Here are Democratic Senators wh...</td>\n",
       "      <td>Thunder Bay, Ontario, Canada</td>\n",
       "      <td>None</td>\n",
       "      <td>1</td>\n",
       "      <td>en</td>\n",
       "      <td>{'neg': 0.0, 'neu': 0.782, 'pos': 0.218, 'comp...</td>\n",
       "      <td>0</td>\n",
       "    </tr>\n",
       "    <tr>\n",
       "      <th>4</th>\n",
       "      <td>DEM:BILL NELSON</td>\n",
       "      <td>2018-10-29 18:24:03</td>\n",
       "      <td>RT @EdKrassen: Please support these Democrats ...</td>\n",
       "      <td>Pittsburgh, PA</td>\n",
       "      <td>None</td>\n",
       "      <td>1</td>\n",
       "      <td>en</td>\n",
       "      <td>{'neg': 0.0, 'neu': 0.726, 'pos': 0.274, 'comp...</td>\n",
       "      <td>1</td>\n",
       "    </tr>\n",
       "    <tr>\n",
       "      <th>5</th>\n",
       "      <td>DEM:BILL NELSON</td>\n",
       "      <td>2018-10-29 18:23:39</td>\n",
       "      <td>RT @Doodisgirl: Shocked to see Democrats like ...</td>\n",
       "      <td>Proud American, Auburn Tiger. War Eagle!</td>\n",
       "      <td>None</td>\n",
       "      <td>1</td>\n",
       "      <td>en</td>\n",
       "      <td>{'neg': 0.232, 'neu': 0.664, 'pos': 0.104, 'co...</td>\n",
       "      <td>0</td>\n",
       "    </tr>\n",
       "  </tbody>\n",
       "</table>\n",
       "</div>"
      ],
      "text/plain": [
       "         Candidate                Time  \\\n",
       "0   GOP:RICK SCOTT 2018-10-29 18:19:56   \n",
       "1  DEM:BILL NELSON 2018-10-29 18:27:49   \n",
       "2  DEM:BILL NELSON 2018-10-29 18:26:16   \n",
       "3  DEM:BILL NELSON 2018-10-29 18:26:02   \n",
       "4  DEM:BILL NELSON 2018-10-29 18:24:03   \n",
       "5  DEM:BILL NELSON 2018-10-29 18:23:39   \n",
       "\n",
       "                                                Text  \\\n",
       "0  RT @FLGovScott: @SalArmyFL has provided more t...   \n",
       "1  .@SenBillNelson every voter deserves to know w...   \n",
       "2  RT @Doodisgirl: Shocked to see Democrats like ...   \n",
       "3  RT @EdKrassen: Here are Democratic Senators wh...   \n",
       "4  RT @EdKrassen: Please support these Democrats ...   \n",
       "5  RT @Doodisgirl: Shocked to see Democrats like ...   \n",
       "\n",
       "                               UserLocation Coordinates IsReTweet Language  \\\n",
       "0                        PUERTO RICO,U.S.A.        None         1       en   \n",
       "1                                 Tampa, FL        None         0       en   \n",
       "2                     Long Island, New York        None         1       en   \n",
       "3              Thunder Bay, Ontario, Canada        None         1       en   \n",
       "4                            Pittsburgh, PA        None         1       en   \n",
       "5  Proud American, Auburn Tiger. War Eagle!        None         1       en   \n",
       "\n",
       "                                           Sentiment Relivent  \n",
       "0  {'neg': 0.0, 'neu': 1.0, 'pos': 0.0, 'compound...        0  \n",
       "1  {'neg': 0.0, 'neu': 0.914, 'pos': 0.086, 'comp...        1  \n",
       "2  {'neg': 0.232, 'neu': 0.664, 'pos': 0.104, 'co...        0  \n",
       "3  {'neg': 0.0, 'neu': 0.782, 'pos': 0.218, 'comp...        0  \n",
       "4  {'neg': 0.0, 'neu': 0.726, 'pos': 0.274, 'comp...        1  \n",
       "5  {'neg': 0.232, 'neu': 0.664, 'pos': 0.104, 'co...        0  "
      ]
     },
     "execution_count": 21,
     "metadata": {},
     "output_type": "execute_result"
    }
   ],
   "source": [
    "FL"
   ]
  },
  {
   "cell_type": "code",
   "execution_count": null,
   "metadata": {},
   "outputs": [],
   "source": [
    "test = "
   ]
  }
 ],
 "metadata": {
  "kernelspec": {
   "display_name": "Python 3",
   "language": "python",
   "name": "python3"
  },
  "language_info": {
   "codemirror_mode": {
    "name": "ipython",
    "version": 3
   },
   "file_extension": ".py",
   "mimetype": "text/x-python",
   "name": "python",
   "nbconvert_exporter": "python",
   "pygments_lexer": "ipython3",
   "version": "3.6.5"
  }
 },
 "nbformat": 4,
 "nbformat_minor": 2
}
