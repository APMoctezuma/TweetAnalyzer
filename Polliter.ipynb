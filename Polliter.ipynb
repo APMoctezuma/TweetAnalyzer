{
 "cells": [
  {
   "cell_type": "code",
   "execution_count": 30,
   "metadata": {},
   "outputs": [],
   "source": [
    "import json\n",
    "import tweepy\n",
    "import pandas as pd\n",
    "from tweepy import OAuthHandler\n",
    "from textblob import TextBlob\n",
    "from vaderSentiment.vaderSentiment import SentimentIntensityAnalyzer\n",
    "import time"
   ]
  },
  {
   "cell_type": "code",
   "execution_count": null,
   "metadata": {},
   "outputs": [],
   "source": [
    "analyzer = SentimentIntensityAnalyzer()"
   ]
  },
  {
   "cell_type": "code",
   "execution_count": 4,
   "metadata": {},
   "outputs": [],
   "source": [
    "con_key = 'uz4wSx2vt2PlKbWCOlIpKbBZo'\n",
    "con_secret = 'lq61FxYRvJPwLjjRlUf0rSTsdXf86iijHYeGfrUdi7EhZzWsWv'\n",
    "acc_token = '1038510225786122247-zLnTCjChQ0rLUHevueL0CN4ygdY1Me'\n",
    "acc_token_secret = 'W7lqUevzXRpzI4zQA6niMDR85r9SCo3sCQGaPA4wg6DS6'"
   ]
  },
  {
   "cell_type": "code",
   "execution_count": 5,
   "metadata": {},
   "outputs": [],
   "source": [
    "auth = OAuthHandler(con_key, con_secret)\n",
    "auth.set_access_token(acc_token, acc_token_secret)\n",
    "new = tweepy.API(auth)"
   ]
  },
  {
   "cell_type": "markdown",
   "metadata": {},
   "source": [
    "results = new.search(q=\"@FLGovScott\" , geocode = , count = 1, tweet_mode = 'extended')"
   ]
  },
  {
   "cell_type": "code",
   "execution_count": 18,
   "metadata": {},
   "outputs": [],
   "source": [
    "results = new.search(q=\"@FLGovScott\" ,  , count = 1 , geocode = '27.967042,-81.471955,320km' , tweet_mode = 'extended')"
   ]
  },
  {
   "cell_type": "code",
   "execution_count": 21,
   "metadata": {
    "collapsed": true
   },
   "outputs": [
    {
     "name": "stdout",
     "output_type": "stream",
     "text": [
      "2018-09-30 17:29:35\n",
      "\n",
      "\n",
      "1::: fullText::  RT @FLGovScott: During their past 88 years, @Publix has expanded to 1100 stores &amp; added countless jobs, including 700 new jobs with their r…\n",
      "2::: geo::  None\n",
      "3::: place::  None\n",
      "4::: coordinates::  None\n",
      "5::: retweet Count::   109\n",
      "6::: retweeted::  False\n",
      "7::: lang::  en\n",
      "8::: ID::  1046452007614205953\n",
      "None\n",
      "9::: TextRange::  {'hashtags': [], 'symbols': [], 'user_mentions': [{'screen_name': 'FLGovScott', 'name': 'Rick Scott', 'id': 131546062, 'id_str': '131546062', 'indices': [3, 14]}, {'screen_name': 'Publix', 'name': 'Publix', 'id': 14784550, 'id_str': '14784550', 'indices': [44, 51]}], 'urls': []}\n",
      "10::: User Location::  \n",
      "9::: TextRange::  {'iso_language_code': 'en', 'result_type': 'recent'}\n",
      "1000::: USER::  User(_api=<tweepy.api.API object at 0x1a1129fda0>, _json={'id': 61171346, 'id_str': '61171346', 'name': 'Debbie McNally', 'screen_name': 'shrtcake60', 'location': '', 'description': '', 'url': None, 'entities': {'description': {'urls': []}}, 'protected': False, 'followers_count': 55, 'friends_count': 154, 'listed_count': 0, 'created_at': 'Wed Jul 29 11:19:52 +0000 2009', 'favourites_count': 8521, 'utc_offset': None, 'time_zone': None, 'geo_enabled': False, 'verified': False, 'statuses_count': 225, 'lang': 'en', 'contributors_enabled': False, 'is_translator': False, 'is_translation_enabled': False, 'profile_background_color': 'C0DEED', 'profile_background_image_url': 'http://abs.twimg.com/images/themes/theme1/bg.png', 'profile_background_image_url_https': 'https://abs.twimg.com/images/themes/theme1/bg.png', 'profile_background_tile': False, 'profile_image_url': 'http://pbs.twimg.com/profile_images/1529847694/CIMG0559_normal.JPG', 'profile_image_url_https': 'https://pbs.twimg.com/profile_images/1529847694/CIMG0559_normal.JPG', 'profile_link_color': '1DA1F2', 'profile_sidebar_border_color': 'C0DEED', 'profile_sidebar_fill_color': 'DDEEF6', 'profile_text_color': '333333', 'profile_use_background_image': True, 'has_extended_profile': False, 'default_profile': True, 'default_profile_image': False, 'following': False, 'follow_request_sent': False, 'notifications': False, 'translator_type': 'none'}, id=61171346, id_str='61171346', name='Debbie McNally', screen_name='shrtcake60', location='', description='', url=None, entities={'description': {'urls': []}}, protected=False, followers_count=55, friends_count=154, listed_count=0, created_at=datetime.datetime(2009, 7, 29, 11, 19, 52), favourites_count=8521, utc_offset=None, time_zone=None, geo_enabled=False, verified=False, statuses_count=225, lang='en', contributors_enabled=False, is_translator=False, is_translation_enabled=False, profile_background_color='C0DEED', profile_background_image_url='http://abs.twimg.com/images/themes/theme1/bg.png', profile_background_image_url_https='https://abs.twimg.com/images/themes/theme1/bg.png', profile_background_tile=False, profile_image_url='http://pbs.twimg.com/profile_images/1529847694/CIMG0559_normal.JPG', profile_image_url_https='https://pbs.twimg.com/profile_images/1529847694/CIMG0559_normal.JPG', profile_link_color='1DA1F2', profile_sidebar_border_color='C0DEED', profile_sidebar_fill_color='DDEEF6', profile_text_color='333333', profile_use_background_image=True, has_extended_profile=False, default_profile=True, default_profile_image=False, following=False, follow_request_sent=False, notifications=False, translator_type='none')\n"
     ]
    }
   ],
   "source": [
    "for result in results:\n",
    "    print(result.created_at)\n",
    "    print('\\n')\n",
    "    print('1::: fullText:: ' , result.full_text)\n",
    "    print('2::: geo:: ' , result.geo)\n",
    "    print('3::: place:: ' , result.place)\n",
    "    print('4::: coordinates:: ' , result.coordinates)\n",
    "    print('5::: retweet Count::  ' , result.retweet_count)\n",
    "    print('6::: retweeted:: ' , result.retweeted)\n",
    "    print('7::: lang:: ' , result.lang)\n",
    "    print('8::: ID:: ' , result.id_str)\n",
    "    print(result.contributors)\n",
    "    print('9::: TextRange:: ' , result.entities)\n",
    "    print('10::: User Location:: ', result.user.location)\n",
    "    print('9::: TextRange:: ' ,result.metadata)\n",
    "    print('1000::: USER:: ' , result.user)\n",
    "    result.l\n",
    "   # result.full_text"
   ]
  },
  {
   "cell_type": "code",
   "execution_count": null,
   "metadata": {},
   "outputs": [],
   "source": []
  },
  {
   "cell_type": "code",
   "execution_count": 19,
   "metadata": {
    "collapsed": true
   },
   "outputs": [
    {
     "data": {
      "text/plain": [
       "[Status(_api=<tweepy.api.API object at 0x1a1129fda0>, _json={'created_at': 'Sun Sep 30 17:29:35 +0000 2018', 'id': 1046452007614205953, 'id_str': '1046452007614205953', 'full_text': 'RT @FLGovScott: During their past 88 years, @Publix has expanded to 1100 stores &amp; added countless jobs, including 700 new jobs with their r…', 'truncated': False, 'display_text_range': [0, 144], 'entities': {'hashtags': [], 'symbols': [], 'user_mentions': [{'screen_name': 'FLGovScott', 'name': 'Rick Scott', 'id': 131546062, 'id_str': '131546062', 'indices': [3, 14]}, {'screen_name': 'Publix', 'name': 'Publix', 'id': 14784550, 'id_str': '14784550', 'indices': [44, 51]}], 'urls': []}, 'metadata': {'iso_language_code': 'en', 'result_type': 'recent'}, 'source': '<a href=\"http://twitter.com/download/iphone\" rel=\"nofollow\">Twitter for iPhone</a>', 'in_reply_to_status_id': None, 'in_reply_to_status_id_str': None, 'in_reply_to_user_id': None, 'in_reply_to_user_id_str': None, 'in_reply_to_screen_name': None, 'user': {'id': 61171346, 'id_str': '61171346', 'name': 'Debbie McNally', 'screen_name': 'shrtcake60', 'location': '', 'description': '', 'url': None, 'entities': {'description': {'urls': []}}, 'protected': False, 'followers_count': 55, 'friends_count': 154, 'listed_count': 0, 'created_at': 'Wed Jul 29 11:19:52 +0000 2009', 'favourites_count': 8521, 'utc_offset': None, 'time_zone': None, 'geo_enabled': False, 'verified': False, 'statuses_count': 225, 'lang': 'en', 'contributors_enabled': False, 'is_translator': False, 'is_translation_enabled': False, 'profile_background_color': 'C0DEED', 'profile_background_image_url': 'http://abs.twimg.com/images/themes/theme1/bg.png', 'profile_background_image_url_https': 'https://abs.twimg.com/images/themes/theme1/bg.png', 'profile_background_tile': False, 'profile_image_url': 'http://pbs.twimg.com/profile_images/1529847694/CIMG0559_normal.JPG', 'profile_image_url_https': 'https://pbs.twimg.com/profile_images/1529847694/CIMG0559_normal.JPG', 'profile_link_color': '1DA1F2', 'profile_sidebar_border_color': 'C0DEED', 'profile_sidebar_fill_color': 'DDEEF6', 'profile_text_color': '333333', 'profile_use_background_image': True, 'has_extended_profile': False, 'default_profile': True, 'default_profile_image': False, 'following': False, 'follow_request_sent': False, 'notifications': False, 'translator_type': 'none'}, 'geo': None, 'coordinates': None, 'place': None, 'contributors': None, 'retweeted_status': {'created_at': 'Sat Sep 29 20:14:42 +0000 2018', 'id': 1046131175033655296, 'id_str': '1046131175033655296', 'full_text': 'During their past 88 years, @Publix has expanded to 1100 stores &amp; added countless jobs, including 700 new jobs with their recent expansion. Job creation in FL would not be possible without our hardworking businesses, and Publix is one of our greatest success stories.', 'truncated': False, 'display_text_range': [0, 271], 'entities': {'hashtags': [], 'symbols': [], 'user_mentions': [{'screen_name': 'Publix', 'name': 'Publix', 'id': 14784550, 'id_str': '14784550', 'indices': [28, 35]}], 'urls': []}, 'metadata': {'iso_language_code': 'en', 'result_type': 'recent'}, 'source': '<a href=\"http://twitter.com/download/iphone\" rel=\"nofollow\">Twitter for iPhone</a>', 'in_reply_to_status_id': None, 'in_reply_to_status_id_str': None, 'in_reply_to_user_id': None, 'in_reply_to_user_id_str': None, 'in_reply_to_screen_name': None, 'user': {'id': 131546062, 'id_str': '131546062', 'name': 'Rick Scott', 'screen_name': 'FLGovScott', 'location': 'The Sunshine State', 'description': \"Florida's 45th Governor - My goal is to make Florida first in job creation.\", 'url': 'http://t.co/twMEOuNmfN', 'entities': {'url': {'urls': [{'url': 'http://t.co/twMEOuNmfN', 'expanded_url': 'http://flgov.com', 'display_url': 'flgov.com', 'indices': [0, 22]}]}, 'description': {'urls': []}}, 'protected': False, 'followers_count': 199658, 'friends_count': 3686, 'listed_count': 3064, 'created_at': 'Sat Apr 10 16:03:04 +0000 2010', 'favourites_count': 1, 'utc_offset': None, 'time_zone': None, 'geo_enabled': False, 'verified': True, 'statuses_count': 10856, 'lang': 'en', 'contributors_enabled': False, 'is_translator': False, 'is_translation_enabled': False, 'profile_background_color': 'C0DEED', 'profile_background_image_url': 'http://abs.twimg.com/images/themes/theme1/bg.png', 'profile_background_image_url_https': 'https://abs.twimg.com/images/themes/theme1/bg.png', 'profile_background_tile': False, 'profile_image_url': 'http://pbs.twimg.com/profile_images/618507125397024768/jKIFx1Qs_normal.jpg', 'profile_image_url_https': 'https://pbs.twimg.com/profile_images/618507125397024768/jKIFx1Qs_normal.jpg', 'profile_banner_url': 'https://pbs.twimg.com/profile_banners/131546062/1436298588', 'profile_link_color': '0084B4', 'profile_sidebar_border_color': 'C0DEED', 'profile_sidebar_fill_color': 'DDEEF6', 'profile_text_color': '333333', 'profile_use_background_image': True, 'has_extended_profile': False, 'default_profile': False, 'default_profile_image': False, 'following': True, 'follow_request_sent': False, 'notifications': False, 'translator_type': 'none'}, 'geo': None, 'coordinates': None, 'place': None, 'contributors': None, 'is_quote_status': False, 'retweet_count': 109, 'favorite_count': 569, 'favorited': False, 'retweeted': False, 'lang': 'en'}, 'is_quote_status': False, 'retweet_count': 109, 'favorite_count': 0, 'favorited': False, 'retweeted': False, 'lang': 'en'}, created_at=datetime.datetime(2018, 9, 30, 17, 29, 35), id=1046452007614205953, id_str='1046452007614205953', full_text='RT @FLGovScott: During their past 88 years, @Publix has expanded to 1100 stores &amp; added countless jobs, including 700 new jobs with their r…', truncated=False, display_text_range=[0, 144], entities={'hashtags': [], 'symbols': [], 'user_mentions': [{'screen_name': 'FLGovScott', 'name': 'Rick Scott', 'id': 131546062, 'id_str': '131546062', 'indices': [3, 14]}, {'screen_name': 'Publix', 'name': 'Publix', 'id': 14784550, 'id_str': '14784550', 'indices': [44, 51]}], 'urls': []}, metadata={'iso_language_code': 'en', 'result_type': 'recent'}, source='Twitter for iPhone', source_url='http://twitter.com/download/iphone', in_reply_to_status_id=None, in_reply_to_status_id_str=None, in_reply_to_user_id=None, in_reply_to_user_id_str=None, in_reply_to_screen_name=None, author=User(_api=<tweepy.api.API object at 0x1a1129fda0>, _json={'id': 61171346, 'id_str': '61171346', 'name': 'Debbie McNally', 'screen_name': 'shrtcake60', 'location': '', 'description': '', 'url': None, 'entities': {'description': {'urls': []}}, 'protected': False, 'followers_count': 55, 'friends_count': 154, 'listed_count': 0, 'created_at': 'Wed Jul 29 11:19:52 +0000 2009', 'favourites_count': 8521, 'utc_offset': None, 'time_zone': None, 'geo_enabled': False, 'verified': False, 'statuses_count': 225, 'lang': 'en', 'contributors_enabled': False, 'is_translator': False, 'is_translation_enabled': False, 'profile_background_color': 'C0DEED', 'profile_background_image_url': 'http://abs.twimg.com/images/themes/theme1/bg.png', 'profile_background_image_url_https': 'https://abs.twimg.com/images/themes/theme1/bg.png', 'profile_background_tile': False, 'profile_image_url': 'http://pbs.twimg.com/profile_images/1529847694/CIMG0559_normal.JPG', 'profile_image_url_https': 'https://pbs.twimg.com/profile_images/1529847694/CIMG0559_normal.JPG', 'profile_link_color': '1DA1F2', 'profile_sidebar_border_color': 'C0DEED', 'profile_sidebar_fill_color': 'DDEEF6', 'profile_text_color': '333333', 'profile_use_background_image': True, 'has_extended_profile': False, 'default_profile': True, 'default_profile_image': False, 'following': False, 'follow_request_sent': False, 'notifications': False, 'translator_type': 'none'}, id=61171346, id_str='61171346', name='Debbie McNally', screen_name='shrtcake60', location='', description='', url=None, entities={'description': {'urls': []}}, protected=False, followers_count=55, friends_count=154, listed_count=0, created_at=datetime.datetime(2009, 7, 29, 11, 19, 52), favourites_count=8521, utc_offset=None, time_zone=None, geo_enabled=False, verified=False, statuses_count=225, lang='en', contributors_enabled=False, is_translator=False, is_translation_enabled=False, profile_background_color='C0DEED', profile_background_image_url='http://abs.twimg.com/images/themes/theme1/bg.png', profile_background_image_url_https='https://abs.twimg.com/images/themes/theme1/bg.png', profile_background_tile=False, profile_image_url='http://pbs.twimg.com/profile_images/1529847694/CIMG0559_normal.JPG', profile_image_url_https='https://pbs.twimg.com/profile_images/1529847694/CIMG0559_normal.JPG', profile_link_color='1DA1F2', profile_sidebar_border_color='C0DEED', profile_sidebar_fill_color='DDEEF6', profile_text_color='333333', profile_use_background_image=True, has_extended_profile=False, default_profile=True, default_profile_image=False, following=False, follow_request_sent=False, notifications=False, translator_type='none'), user=User(_api=<tweepy.api.API object at 0x1a1129fda0>, _json={'id': 61171346, 'id_str': '61171346', 'name': 'Debbie McNally', 'screen_name': 'shrtcake60', 'location': '', 'description': '', 'url': None, 'entities': {'description': {'urls': []}}, 'protected': False, 'followers_count': 55, 'friends_count': 154, 'listed_count': 0, 'created_at': 'Wed Jul 29 11:19:52 +0000 2009', 'favourites_count': 8521, 'utc_offset': None, 'time_zone': None, 'geo_enabled': False, 'verified': False, 'statuses_count': 225, 'lang': 'en', 'contributors_enabled': False, 'is_translator': False, 'is_translation_enabled': False, 'profile_background_color': 'C0DEED', 'profile_background_image_url': 'http://abs.twimg.com/images/themes/theme1/bg.png', 'profile_background_image_url_https': 'https://abs.twimg.com/images/themes/theme1/bg.png', 'profile_background_tile': False, 'profile_image_url': 'http://pbs.twimg.com/profile_images/1529847694/CIMG0559_normal.JPG', 'profile_image_url_https': 'https://pbs.twimg.com/profile_images/1529847694/CIMG0559_normal.JPG', 'profile_link_color': '1DA1F2', 'profile_sidebar_border_color': 'C0DEED', 'profile_sidebar_fill_color': 'DDEEF6', 'profile_text_color': '333333', 'profile_use_background_image': True, 'has_extended_profile': False, 'default_profile': True, 'default_profile_image': False, 'following': False, 'follow_request_sent': False, 'notifications': False, 'translator_type': 'none'}, id=61171346, id_str='61171346', name='Debbie McNally', screen_name='shrtcake60', location='', description='', url=None, entities={'description': {'urls': []}}, protected=False, followers_count=55, friends_count=154, listed_count=0, created_at=datetime.datetime(2009, 7, 29, 11, 19, 52), favourites_count=8521, utc_offset=None, time_zone=None, geo_enabled=False, verified=False, statuses_count=225, lang='en', contributors_enabled=False, is_translator=False, is_translation_enabled=False, profile_background_color='C0DEED', profile_background_image_url='http://abs.twimg.com/images/themes/theme1/bg.png', profile_background_image_url_https='https://abs.twimg.com/images/themes/theme1/bg.png', profile_background_tile=False, profile_image_url='http://pbs.twimg.com/profile_images/1529847694/CIMG0559_normal.JPG', profile_image_url_https='https://pbs.twimg.com/profile_images/1529847694/CIMG0559_normal.JPG', profile_link_color='1DA1F2', profile_sidebar_border_color='C0DEED', profile_sidebar_fill_color='DDEEF6', profile_text_color='333333', profile_use_background_image=True, has_extended_profile=False, default_profile=True, default_profile_image=False, following=False, follow_request_sent=False, notifications=False, translator_type='none'), geo=None, coordinates=None, place=None, contributors=None, retweeted_status=Status(_api=<tweepy.api.API object at 0x1a1129fda0>, _json={'created_at': 'Sat Sep 29 20:14:42 +0000 2018', 'id': 1046131175033655296, 'id_str': '1046131175033655296', 'full_text': 'During their past 88 years, @Publix has expanded to 1100 stores &amp; added countless jobs, including 700 new jobs with their recent expansion. Job creation in FL would not be possible without our hardworking businesses, and Publix is one of our greatest success stories.', 'truncated': False, 'display_text_range': [0, 271], 'entities': {'hashtags': [], 'symbols': [], 'user_mentions': [{'screen_name': 'Publix', 'name': 'Publix', 'id': 14784550, 'id_str': '14784550', 'indices': [28, 35]}], 'urls': []}, 'metadata': {'iso_language_code': 'en', 'result_type': 'recent'}, 'source': '<a href=\"http://twitter.com/download/iphone\" rel=\"nofollow\">Twitter for iPhone</a>', 'in_reply_to_status_id': None, 'in_reply_to_status_id_str': None, 'in_reply_to_user_id': None, 'in_reply_to_user_id_str': None, 'in_reply_to_screen_name': None, 'user': {'id': 131546062, 'id_str': '131546062', 'name': 'Rick Scott', 'screen_name': 'FLGovScott', 'location': 'The Sunshine State', 'description': \"Florida's 45th Governor - My goal is to make Florida first in job creation.\", 'url': 'http://t.co/twMEOuNmfN', 'entities': {'url': {'urls': [{'url': 'http://t.co/twMEOuNmfN', 'expanded_url': 'http://flgov.com', 'display_url': 'flgov.com', 'indices': [0, 22]}]}, 'description': {'urls': []}}, 'protected': False, 'followers_count': 199658, 'friends_count': 3686, 'listed_count': 3064, 'created_at': 'Sat Apr 10 16:03:04 +0000 2010', 'favourites_count': 1, 'utc_offset': None, 'time_zone': None, 'geo_enabled': False, 'verified': True, 'statuses_count': 10856, 'lang': 'en', 'contributors_enabled': False, 'is_translator': False, 'is_translation_enabled': False, 'profile_background_color': 'C0DEED', 'profile_background_image_url': 'http://abs.twimg.com/images/themes/theme1/bg.png', 'profile_background_image_url_https': 'https://abs.twimg.com/images/themes/theme1/bg.png', 'profile_background_tile': False, 'profile_image_url': 'http://pbs.twimg.com/profile_images/618507125397024768/jKIFx1Qs_normal.jpg', 'profile_image_url_https': 'https://pbs.twimg.com/profile_images/618507125397024768/jKIFx1Qs_normal.jpg', 'profile_banner_url': 'https://pbs.twimg.com/profile_banners/131546062/1436298588', 'profile_link_color': '0084B4', 'profile_sidebar_border_color': 'C0DEED', 'profile_sidebar_fill_color': 'DDEEF6', 'profile_text_color': '333333', 'profile_use_background_image': True, 'has_extended_profile': False, 'default_profile': False, 'default_profile_image': False, 'following': True, 'follow_request_sent': False, 'notifications': False, 'translator_type': 'none'}, 'geo': None, 'coordinates': None, 'place': None, 'contributors': None, 'is_quote_status': False, 'retweet_count': 109, 'favorite_count': 569, 'favorited': False, 'retweeted': False, 'lang': 'en'}, created_at=datetime.datetime(2018, 9, 29, 20, 14, 42), id=1046131175033655296, id_str='1046131175033655296', full_text='During their past 88 years, @Publix has expanded to 1100 stores &amp; added countless jobs, including 700 new jobs with their recent expansion. Job creation in FL would not be possible without our hardworking businesses, and Publix is one of our greatest success stories.', truncated=False, display_text_range=[0, 271], entities={'hashtags': [], 'symbols': [], 'user_mentions': [{'screen_name': 'Publix', 'name': 'Publix', 'id': 14784550, 'id_str': '14784550', 'indices': [28, 35]}], 'urls': []}, metadata={'iso_language_code': 'en', 'result_type': 'recent'}, source='Twitter for iPhone', source_url='http://twitter.com/download/iphone', in_reply_to_status_id=None, in_reply_to_status_id_str=None, in_reply_to_user_id=None, in_reply_to_user_id_str=None, in_reply_to_screen_name=None, author=User(_api=<tweepy.api.API object at 0x1a1129fda0>, _json={'id': 131546062, 'id_str': '131546062', 'name': 'Rick Scott', 'screen_name': 'FLGovScott', 'location': 'The Sunshine State', 'description': \"Florida's 45th Governor - My goal is to make Florida first in job creation.\", 'url': 'http://t.co/twMEOuNmfN', 'entities': {'url': {'urls': [{'url': 'http://t.co/twMEOuNmfN', 'expanded_url': 'http://flgov.com', 'display_url': 'flgov.com', 'indices': [0, 22]}]}, 'description': {'urls': []}}, 'protected': False, 'followers_count': 199658, 'friends_count': 3686, 'listed_count': 3064, 'created_at': 'Sat Apr 10 16:03:04 +0000 2010', 'favourites_count': 1, 'utc_offset': None, 'time_zone': None, 'geo_enabled': False, 'verified': True, 'statuses_count': 10856, 'lang': 'en', 'contributors_enabled': False, 'is_translator': False, 'is_translation_enabled': False, 'profile_background_color': 'C0DEED', 'profile_background_image_url': 'http://abs.twimg.com/images/themes/theme1/bg.png', 'profile_background_image_url_https': 'https://abs.twimg.com/images/themes/theme1/bg.png', 'profile_background_tile': False, 'profile_image_url': 'http://pbs.twimg.com/profile_images/618507125397024768/jKIFx1Qs_normal.jpg', 'profile_image_url_https': 'https://pbs.twimg.com/profile_images/618507125397024768/jKIFx1Qs_normal.jpg', 'profile_banner_url': 'https://pbs.twimg.com/profile_banners/131546062/1436298588', 'profile_link_color': '0084B4', 'profile_sidebar_border_color': 'C0DEED', 'profile_sidebar_fill_color': 'DDEEF6', 'profile_text_color': '333333', 'profile_use_background_image': True, 'has_extended_profile': False, 'default_profile': False, 'default_profile_image': False, 'following': True, 'follow_request_sent': False, 'notifications': False, 'translator_type': 'none'}, id=131546062, id_str='131546062', name='Rick Scott', screen_name='FLGovScott', location='The Sunshine State', description=\"Florida's 45th Governor - My goal is to make Florida first in job creation.\", url='http://t.co/twMEOuNmfN', entities={'url': {'urls': [{'url': 'http://t.co/twMEOuNmfN', 'expanded_url': 'http://flgov.com', 'display_url': 'flgov.com', 'indices': [0, 22]}]}, 'description': {'urls': []}}, protected=False, followers_count=199658, friends_count=3686, listed_count=3064, created_at=datetime.datetime(2010, 4, 10, 16, 3, 4), favourites_count=1, utc_offset=None, time_zone=None, geo_enabled=False, verified=True, statuses_count=10856, lang='en', contributors_enabled=False, is_translator=False, is_translation_enabled=False, profile_background_color='C0DEED', profile_background_image_url='http://abs.twimg.com/images/themes/theme1/bg.png', profile_background_image_url_https='https://abs.twimg.com/images/themes/theme1/bg.png', profile_background_tile=False, profile_image_url='http://pbs.twimg.com/profile_images/618507125397024768/jKIFx1Qs_normal.jpg', profile_image_url_https='https://pbs.twimg.com/profile_images/618507125397024768/jKIFx1Qs_normal.jpg', profile_banner_url='https://pbs.twimg.com/profile_banners/131546062/1436298588', profile_link_color='0084B4', profile_sidebar_border_color='C0DEED', profile_sidebar_fill_color='DDEEF6', profile_text_color='333333', profile_use_background_image=True, has_extended_profile=False, default_profile=False, default_profile_image=False, following=True, follow_request_sent=False, notifications=False, translator_type='none'), user=User(_api=<tweepy.api.API object at 0x1a1129fda0>, _json={'id': 131546062, 'id_str': '131546062', 'name': 'Rick Scott', 'screen_name': 'FLGovScott', 'location': 'The Sunshine State', 'description': \"Florida's 45th Governor - My goal is to make Florida first in job creation.\", 'url': 'http://t.co/twMEOuNmfN', 'entities': {'url': {'urls': [{'url': 'http://t.co/twMEOuNmfN', 'expanded_url': 'http://flgov.com', 'display_url': 'flgov.com', 'indices': [0, 22]}]}, 'description': {'urls': []}}, 'protected': False, 'followers_count': 199658, 'friends_count': 3686, 'listed_count': 3064, 'created_at': 'Sat Apr 10 16:03:04 +0000 2010', 'favourites_count': 1, 'utc_offset': None, 'time_zone': None, 'geo_enabled': False, 'verified': True, 'statuses_count': 10856, 'lang': 'en', 'contributors_enabled': False, 'is_translator': False, 'is_translation_enabled': False, 'profile_background_color': 'C0DEED', 'profile_background_image_url': 'http://abs.twimg.com/images/themes/theme1/bg.png', 'profile_background_image_url_https': 'https://abs.twimg.com/images/themes/theme1/bg.png', 'profile_background_tile': False, 'profile_image_url': 'http://pbs.twimg.com/profile_images/618507125397024768/jKIFx1Qs_normal.jpg', 'profile_image_url_https': 'https://pbs.twimg.com/profile_images/618507125397024768/jKIFx1Qs_normal.jpg', 'profile_banner_url': 'https://pbs.twimg.com/profile_banners/131546062/1436298588', 'profile_link_color': '0084B4', 'profile_sidebar_border_color': 'C0DEED', 'profile_sidebar_fill_color': 'DDEEF6', 'profile_text_color': '333333', 'profile_use_background_image': True, 'has_extended_profile': False, 'default_profile': False, 'default_profile_image': False, 'following': True, 'follow_request_sent': False, 'notifications': False, 'translator_type': 'none'}, id=131546062, id_str='131546062', name='Rick Scott', screen_name='FLGovScott', location='The Sunshine State', description=\"Florida's 45th Governor - My goal is to make Florida first in job creation.\", url='http://t.co/twMEOuNmfN', entities={'url': {'urls': [{'url': 'http://t.co/twMEOuNmfN', 'expanded_url': 'http://flgov.com', 'display_url': 'flgov.com', 'indices': [0, 22]}]}, 'description': {'urls': []}}, protected=False, followers_count=199658, friends_count=3686, listed_count=3064, created_at=datetime.datetime(2010, 4, 10, 16, 3, 4), favourites_count=1, utc_offset=None, time_zone=None, geo_enabled=False, verified=True, statuses_count=10856, lang='en', contributors_enabled=False, is_translator=False, is_translation_enabled=False, profile_background_color='C0DEED', profile_background_image_url='http://abs.twimg.com/images/themes/theme1/bg.png', profile_background_image_url_https='https://abs.twimg.com/images/themes/theme1/bg.png', profile_background_tile=False, profile_image_url='http://pbs.twimg.com/profile_images/618507125397024768/jKIFx1Qs_normal.jpg', profile_image_url_https='https://pbs.twimg.com/profile_images/618507125397024768/jKIFx1Qs_normal.jpg', profile_banner_url='https://pbs.twimg.com/profile_banners/131546062/1436298588', profile_link_color='0084B4', profile_sidebar_border_color='C0DEED', profile_sidebar_fill_color='DDEEF6', profile_text_color='333333', profile_use_background_image=True, has_extended_profile=False, default_profile=False, default_profile_image=False, following=True, follow_request_sent=False, notifications=False, translator_type='none'), geo=None, coordinates=None, place=None, contributors=None, is_quote_status=False, retweet_count=109, favorite_count=569, favorited=False, retweeted=False, lang='en'), is_quote_status=False, retweet_count=109, favorite_count=0, favorited=False, retweeted=False, lang='en')]"
      ]
     },
     "execution_count": 19,
     "metadata": {},
     "output_type": "execute_result"
    }
   ],
   "source": [
    "results"
   ]
  },
  {
   "cell_type": "code",
   "execution_count": null,
   "metadata": {},
   "outputs": [],
   "source": []
  },
  {
   "cell_type": "markdown",
   "metadata": {},
   "source": [
    "## This is the Begining"
   ]
  },
  {
   "cell_type": "code",
   "execution_count": 42,
   "metadata": {},
   "outputs": [],
   "source": [
    "def Senter(tweets , Cadidate , DF):\n",
    "    for tweet in tweets:\n",
    "        sentiment = '0'\n",
    "        #CHECK IF IT IS AN ELECTION TWEET\n",
    "        #SO WE NEED TO FIND A WAY TO DO THIS!!!!\n",
    "        if tweet.lang == 'en':\n",
    "            #send to english sentiment analyser\n",
    "            sentiment = analyzer.polarity_scores(tweet.full_text)\n",
    "        else:\n",
    "            #send to this sentiment analyser\n",
    "            sentiment = analyzer.polarity_scores(tweet.full_text)\n",
    "        DF.append({'Candidate': '%s'.format(Cadidate) , 'Time' : result.created_at ,\n",
    "               'Text': result.full_text , 'userLocation': result.user.location , \n",
    "               'coordinates': result.coordinates , 'retweeted': result.retweeted , \n",
    "              'Language' : result.lang , 'Sentiment': sentiment} , ignore_index = True)"
   ]
  },
  {
   "cell_type": "code",
   "execution_count": null,
   "metadata": {},
   "outputs": [],
   "source": [
    "columns = ['Candidate' , 'Time' , 'Text' , 'userLocation' , 'coordinates' , 'retweeted' , 'language' , 'Sentiment' ]\n",
    "AZ_path_name = 'iCloud Drive/Desktop/Politter/AZOutput'\n",
    "FL_path_name = 'iCloud Drive/Desktop/Politter/FLOutput'\n",
    "consume_count = 1\n",
    "FL = pd.DataFrame(columns = columns)\n",
    "AZ = pd.DataFrame(columns = columns)\n",
    "\n",
    "while True:\n",
    "    \n",
    "    if time.localtime().tm_hour == 24:\n",
    "        FL.to_csv(FL_path_name , sep = ',')\n",
    "        AZ.to_csv(AZ_path_name , sep = ',')\n",
    "      \n",
    "    \n",
    "    #Florida Race\n",
    "    Rick = new.search(q=\"@FLGovScott\" , count = consume_count  , geocode = '27.967042,-81.471955,320km' , tweet_mode = 'extended')    \n",
    "    if len(Rick) == 0:\n",
    "        time.sleep(60 * 15)\n",
    "        Rick = new.search(q=\"@FLGovScott\" , count = consume_count  , geocode = '27.967042,-81.471955,320km' , tweet_mode = 'extended')    \n",
    "    Senter(Rick , 'GOP:RICK SCOTT' , FL)\n",
    "    \n",
    "    Bill = new.search(q=\"@SenBillNelson\" , count = consume_count  , geocode = '27.967042,-81.471955,320km' , tweet_mode = 'extended')    \n",
    "    if len(Bill) == 0:\n",
    "        time.sleep(60 * 15)\n",
    "        Bill = new.search(q=\"@SenBillNelson\" , count = consume_count  , geocode = '27.967042,-81.471955,320km' , tweet_mode = 'extended')    \n",
    "    Senter(Bill , 'DEM:BILL NELSON' , FL)\n",
    "    \n",
    "    \n",
    "    #Arazona Race\n",
    "    Martha = new.search(q=\"@RepMcSally\" , count = consume_count  , geocode = '34.383026,-111.694738,400km' , tweet_mode = 'extended')    \n",
    "    if len(Martha) == 0:\n",
    "        time.sleep(60 * 15)\n",
    "        Martha = new.search(q=\"@RepMcSally\" , count = consume_count  , geocode = '34.383026,-111.694738,400km' , tweet_mode = 'extended')    \n",
    "    Senter(Martha , 'GOP:MARTHA MCSALLY' , AZ)\n",
    "    \n",
    "    Kyrsten =  new.search(q=\"@RepSinema\" , count = consume_count  , geocode = '34.383026,-111.694738,400km' , tweet_mode = 'extended')    \n",
    "    if len(Kyrsten) == 0:\n",
    "        time.sleep(60 * 15)\n",
    "    Kyrsten = new.search(q=\"@RepSinema\" , count = consume_count  , geocode = '34.383026,-111.694738,400km' , tweet_mode = 'extended')    \n",
    "    Senter(Kyrsten , 'DEM:KYRSTEN SINEMA' , AZ)"
   ]
  }
 ],
 "metadata": {
  "kernelspec": {
   "display_name": "Python 3",
   "language": "python",
   "name": "python3"
  },
  "language_info": {
   "codemirror_mode": {
    "name": "ipython",
    "version": 3
   },
   "file_extension": ".py",
   "mimetype": "text/x-python",
   "name": "python",
   "nbconvert_exporter": "python",
   "pygments_lexer": "ipython3",
   "version": "3.6.5"
  }
 },
 "nbformat": 4,
 "nbformat_minor": 2
}
